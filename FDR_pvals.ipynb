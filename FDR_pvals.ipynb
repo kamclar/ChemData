{
  "nbformat": 4,
  "nbformat_minor": 0,
  "metadata": {
    "colab": {
      "provenance": [],
      "authorship_tag": "ABX9TyOpQMFsHNH8LQxgOTJGLblk"
    },
    "kernelspec": {
      "name": "ir",
      "display_name": "R"
    },
    "language_info": {
      "name": "R"
    }
  },
  "cells": [
    {
      "cell_type": "code",
      "execution_count": 11,
      "metadata": {
        "colab": {
          "base_uri": "https://localhost:8080/"
        },
        "id": "9U6LQHRdG2rP",
        "outputId": "e14d33ea-0ece-468d-8b4b-5624b03667e4"
      },
      "outputs": [
        {
          "output_type": "stream",
          "name": "stderr",
          "text": [
            "Installing package into ‘/usr/local/lib/R/site-library’\n",
            "(as ‘lib’ is unspecified)\n",
            "\n",
            "'getOption(\"repos\")' replaces Bioconductor standard repositories, see\n",
            "'?repositories' for details\n",
            "\n",
            "replacement repositories:\n",
            "    CRAN: https://cran.rstudio.com\n",
            "\n",
            "\n",
            "Bioconductor version 3.16 (BiocManager 1.30.19), R 4.2.2 Patched (2022-11-10\n",
            "  r83330)\n",
            "\n",
            "Installing package(s) 'BiocVersion', 'genefilter'\n",
            "\n",
            "also installing the dependencies ‘bitops’, ‘zlibbioc’, ‘RCurl’, ‘GenomeInfoDbData’, ‘XVector’, ‘GenomeInfoDb’, ‘Rcpp’, ‘plogr’, ‘png’, ‘Biostrings’, ‘IRanges’, ‘RSQLite’, ‘S4Vectors’, ‘KEGGREST’, ‘XML’, ‘xtable’, ‘BiocGenerics’, ‘AnnotationDbi’, ‘annotate’, ‘Biobase’\n",
            "\n",
            "\n",
            "Old packages: 'bit', 'data.table', 'devtools', 'knitr', 'pkgbuild', 'pkgload',\n",
            "  'sass', 'tidyverse', 'vctrs', 'xfun', 'boot', 'foreign'\n",
            "\n"
          ]
        }
      ],
      "source": [
        "if (!require(\"BiocManager\", quietly = TRUE))\n",
        "    install.packages(\"BiocManager\")\n",
        "\n",
        "BiocManager::install(\"genefilter\")\n",
        "library('genefilter')"
      ]
    },
    {
      "cell_type": "code",
      "source": [
        "install.packages('rafalib')"
      ],
      "metadata": {
        "colab": {
          "base_uri": "https://localhost:8080/"
        },
        "id": "UeIY-0JRK7BW",
        "outputId": "b50af876-bd43-4960-8b96-9a6e09fb734e"
      },
      "execution_count": 14,
      "outputs": [
        {
          "output_type": "stream",
          "name": "stderr",
          "text": [
            "Installing package into ‘/usr/local/lib/R/site-library’\n",
            "(as ‘lib’ is unspecified)\n",
            "\n"
          ]
        }
      ]
    },
    {
      "cell_type": "code",
      "source": [
        "library(devtools)\n",
        "\n",
        "install_github(\"genomicsclass/GSE5859Subset\")\n",
        "\n",
        "library(GSE5859Subset)\n",
        "\n",
        "data(GSE5859Subset)"
      ],
      "metadata": {
        "colab": {
          "base_uri": "https://localhost:8080/"
        },
        "id": "OPLZwN_oHiap",
        "outputId": "fd6ff0e9-6dc2-43ca-e5f0-cefa5297e970"
      },
      "execution_count": 4,
      "outputs": [
        {
          "output_type": "stream",
          "name": "stderr",
          "text": [
            "Loading required package: usethis\n",
            "\n",
            "Downloading GitHub repo genomicsclass/GSE5859Subset@HEAD\n",
            "\n"
          ]
        },
        {
          "output_type": "stream",
          "name": "stdout",
          "text": [
            "* checking for file ‘/tmp/RtmpuiOBYc/remotes4a6caee9b8/genomicsclass-GSE5859Subset-8ada5f4/DESCRIPTION’ ... OK\n",
            "* preparing ‘GSE5859Subset’:\n",
            "* checking DESCRIPTION meta-information ... OK\n",
            "* checking for LF line-endings in source and make files and shell scripts\n",
            "* checking for empty or unneeded directories\n",
            "* looking to see if a ‘data/datalist’ file should be added\n",
            "* creating default NAMESPACE file\n",
            "* building ‘GSE5859Subset_1.0.tar.gz’\n",
            "\n"
          ]
        },
        {
          "output_type": "stream",
          "name": "stderr",
          "text": [
            "Installing package into ‘/usr/local/lib/R/site-library’\n",
            "(as ‘lib’ is unspecified)\n",
            "\n"
          ]
        }
      ]
    },
    {
      "cell_type": "code",
      "source": [
        "# pvals from an experiment\n",
        "\n",
        "g <- factor(sampleInfo$group)\n",
        "results <- rowttests(geneExpression,g)\n",
        "pvals <- results$p.value"
      ],
      "metadata": {
        "id": "RDUIeqNaHAN0"
      },
      "execution_count": 12,
      "outputs": []
    },
    {
      "cell_type": "code",
      "source": [
        "# pvals where we know that null hypothesis is true\n",
        "m <- nrow(geneExpression)\n",
        "n <- ncol(geneExpression)\n",
        "randomData <- matrix(rnorm(n*m),m,n)\n",
        "nullpvals <- rowttests(randomData,g)$p.value"
      ],
      "metadata": {
        "id": "TBDw6_IROHkL"
      },
      "execution_count": 16,
      "outputs": []
    },
    {
      "cell_type": "code",
      "source": [
        "fig <- function(width, heigth){\n",
        "     options(repr.plot.width=width, repr.plot.height=heigth)\n",
        "}"
      ],
      "metadata": {
        "id": "AHFaBZaWYihT"
      },
      "execution_count": 20,
      "outputs": []
    },
    {
      "cell_type": "code",
      "source": [
        "library(rafalib)\n",
        "\n",
        "fig(12, 6)\n",
        "mypar(1,2)\n",
        "hist(nullpvals,ylim=c(0,1400))\n",
        "hist(pvals,ylim=c(0,1400))"
      ],
      "metadata": {
        "colab": {
          "base_uri": "https://localhost:8080/",
          "height": 377
        },
        "id": "0szap1R3HICL",
        "outputId": "1c7055f6-6408-4a8a-856f-a8d4e7479eb6"
      },
      "execution_count": 21,
      "outputs": [
        {
          "output_type": "display_data",
          "data": {
            "text/plain": [
              "Plot with title “Histogram of pvals”"
            ],
            "image/png": "[encoded data removed]"
          },
          "metadata": {
            "image/png": {
              "width": 720,
              "height": 360
            }
          }
        }
      ]
    },
    {
      "cell_type": "code",
      "source": [
        "# number of rows = number of genes\n",
        "m"
      ],
      "metadata": {
        "colab": {
          "base_uri": "https://localhost:8080/",
          "height": 34
        },
        "id": "3rjKSsuHK4I3",
        "outputId": "0bd9a5fd-696e-4019-8e20-6af76a46528c"
      },
      "execution_count": 18,
      "outputs": [
        {
          "output_type": "display_data",
          "data": {
            "text/html": [
              "8793"
            ],
            "text/markdown": "8793",
            "text/latex": "8793",
            "text/plain": [
              "[1] 8793"
            ]
          },
          "metadata": {}
        }
      ]
    },
    {
      "cell_type": "code",
      "source": [
        "# number of false positives\n",
        "m*0.05"
      ],
      "metadata": {
        "colab": {
          "base_uri": "https://localhost:8080/",
          "height": 34
        },
        "id": "uvt6-jtsRkeG",
        "outputId": "5437e36d-f1ec-48fb-d857-b63e73c3dc08"
      },
      "execution_count": 19,
      "outputs": [
        {
          "output_type": "display_data",
          "data": {
            "text/html": [
              "439.65"
            ],
            "text/markdown": "439.65",
            "text/latex": "439.65",
            "text/plain": [
              "[1] 439.65"
            ]
          },
          "metadata": {}
        }
      ]
    }
  ]
}